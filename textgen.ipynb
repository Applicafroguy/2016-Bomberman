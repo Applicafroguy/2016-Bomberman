{
  "nbformat": 4,
  "nbformat_minor": 0,
  "metadata": {
    "colab": {
      "name": "textgen.ipynb",
      "version": "0.3.2",
      "provenance": [],
      "include_colab_link": true
    },
    "kernelspec": {
      "name": "python3",
      "display_name": "Python 3"
    }
  },
  "cells": [
    {
      "cell_type": "markdown",
      "metadata": {
        "id": "view-in-github",
        "colab_type": "text"
      },
      "source": [
        "<a href=\"https://colab.research.google.com/github/Applicafroguy/2016-Bomberman/blob/master/textgen.ipynb\" target=\"_parent\"><img src=\"https://colab.research.google.com/assets/colab-badge.svg\" alt=\"Open In Colab\"/></a>"
      ]
    },
    {
      "cell_type": "code",
      "metadata": {
        "id": "KrlohrGdtZ7v",
        "colab_type": "code",
        "colab": {
          "base_uri": "https://localhost:8080/",
          "height": 121
        },
        "outputId": "f5a2dbc1-1a32-4f35-9963-69e0fcfe8bb2"
      },
      "source": [
        "!git clone https://github.com/graykode/gpt-2-Pytorch\n",
        "  "
      ],
      "execution_count": 3,
      "outputs": [
        {
          "output_type": "stream",
          "text": [
            "Cloning into 'gpt-2-Pytorch'...\n",
            "remote: Enumerating objects: 1, done.\u001b[K\n",
            "remote: Counting objects: 100% (1/1), done.\u001b[K\n",
            "remote: Total 130 (delta 0), reused 0 (delta 0), pack-reused 129\u001b[K\n",
            "Receiving objects: 100% (130/130), 2.39 MiB | 17.59 MiB/s, done.\n",
            "Resolving deltas: 100% (48/48), done.\n"
          ],
          "name": "stdout"
        }
      ]
    },
    {
      "cell_type": "code",
      "metadata": {
        "id": "74Avw1ZstoXP",
        "colab_type": "code",
        "colab": {}
      },
      "source": [
        "import os\n",
        "os.chdir('gpt-2-Pytorch')"
      ],
      "execution_count": 0,
      "outputs": []
    },
    {
      "cell_type": "code",
      "metadata": {
        "id": "GlKuybuDuMar",
        "colab_type": "code",
        "colab": {
          "base_uri": "https://localhost:8080/",
          "height": 243
        },
        "outputId": "812564e3-46f9-4c13-94ca-d1d383d9f804"
      },
      "source": [
        "!curl --output gpt2-pytorch_model.bin https://s3.amazonaws.com/models.huggingface.co/bert/gpt2-pytorch_model.bin\n",
        "!pip install -r requirements.txt"
      ],
      "execution_count": 6,
      "outputs": [
        {
          "output_type": "stream",
          "text": [
            "  % Total    % Received % Xferd  Average Speed   Time    Time     Time  Current\n",
            "                                 Dload  Upload   Total   Spent    Left  Speed\n",
            "100  522M  100  522M    0     0  76.8M      0  0:00:06  0:00:06 --:--:-- 77.2M\n",
            "Collecting regex==2017.4.5 (from -r requirements.txt (line 1))\n",
            "\u001b[?25l  Downloading https://files.pythonhosted.org/packages/36/62/c0c0d762ffd4ffaf39f372eb8561b8d491a11ace5a7884610424a8b40f95/regex-2017.04.05.tar.gz (601kB)\n",
            "\u001b[K     |████████████████████████████████| 604kB 2.8MB/s \n",
            "\u001b[?25hBuilding wheels for collected packages: regex\n",
            "  Building wheel for regex (setup.py) ... \u001b[?25l\u001b[?25hdone\n",
            "  Created wheel for regex: filename=regex-2017.4.5-cp36-cp36m-linux_x86_64.whl size=533182 sha256=4ecefa86679c2a53b47fcd0e86f106ff9f70942011538c4dd39f9000302b1603\n",
            "  Stored in directory: /root/.cache/pip/wheels/75/07/38/3c16b529d50cb4e0cd3dbc7b75cece8a09c132692c74450b01\n",
            "Successfully built regex\n",
            "Installing collected packages: regex\n",
            "Successfully installed regex-2017.4.5\n"
          ],
          "name": "stdout"
        }
      ]
    },
    {
      "cell_type": "code",
      "metadata": {
        "id": "KhG_nQMfvKaJ",
        "colab_type": "code",
        "colab": {
          "base_uri": "https://localhost:8080/",
          "height": 1000
        },
        "outputId": "65366731-b7ea-40a3-915e-6a5f41ffb9f8"
      },
      "source": [
        "!python main.py --text \"How to write a compelling resume\""
      ],
      "execution_count": 9,
      "outputs": [
        {
          "output_type": "stream",
          "text": [
            "Namespace(batch_size=-1, length=-1, nsamples=1, quiet=False, temperature=0.7, text='How to write a compelling resume', top_k=40, unconditional=False)\n",
            "How to write a compelling resume\n",
            "100% 512/512 [00:41<00:00, 10.00it/s]\n",
            "======================================== SAMPLE 1 ========================================\n",
            "\n",
            "\n",
            "What to do when your resume doesn't match your skillset\n",
            "\n",
            "How to take on a career in a career you don't want to quit\n",
            "\n",
            "What to consider when writing your resume\n",
            "\n",
            "How to make sure you're working on a project you want to keep going\n",
            "\n",
            "How to write a good resume\n",
            "\n",
            "How to keep up with your emails and video messages\n",
            "\n",
            "What to do next\n",
            "\n",
            "How to make sure your resume is well-organized\n",
            "\n",
            "How to keep up with your email and video messages\n",
            "\n",
            "How to keep your job\n",
            "\n",
            "How to keep up with your emails and video messages\n",
            "\n",
            "How to keep up with your job\n",
            "\n",
            "How to keep up with your emails and video messages\n",
            "\n",
            "How to keep up with your job\n",
            "\n",
            "How to stay up all night\n",
            "\n",
            "How to keep up with your email, video, and photo messages\n",
            "\n",
            "How to keep up with your email, video, and photo messages\n",
            "\n",
            "How to stay up all night\n",
            "\n",
            "How to keep up with your email, video, and photo messages\n",
            "\n",
            "How to stay up all night\n",
            "\n",
            "How to keep up with your email, video, and photo messages\n",
            "\n",
            "How to keep up with your email, video, and photo messages\n",
            "\n",
            "How to stay up all night\n",
            "\n",
            "How to keep up with your email, video, and photo messages\n",
            "\n",
            "How to keep up with your email, video, and photo messages\n",
            "\n",
            "How to keep up with your email, video, and photo messages\n",
            "\n",
            "How to keep up with your email, video, and photo messages\n",
            "\n",
            "How to stay up all night\n",
            "\n",
            "What to read in your resume\n",
            "\n",
            "Why are you posting your resume?\n",
            "\n",
            "How to make sure that your resume meets your needs\n",
            "\n",
            "How to make sure that your resume meets your needs\n",
            "\n",
            "Who should I email my resume to?\n",
            "\n",
            "What do you email your resume to?\n",
            "\n",
            "How do I respond to your email?\n",
            "\n",
            "How do I respond to your email?\n",
            "\n",
            "How to respond to your email?\n",
            "\n",
            "How do you respond to your email?\n",
            "\n",
            "How can I know that I'm responding to your email?\n",
            "\n",
            "How do I know that I'm responding to your email?\n",
            "\n",
            "How do I know that I'm responding to your email?\n",
            "\n",
            "How do I know that I'm responding to your email?\n",
            "\n",
            "How can I know that I'm responding to your email?\n",
            "\n",
            "How do I know that I'm responding to\n"
          ],
          "name": "stdout"
        }
      ]
    }
  ]
}